{
  "cells": [
    {
      "cell_type": "code",
      "execution_count": null,
      "metadata": {
        "id": "D6vC520OPeTa"
      },
      "outputs": [],
      "source": [
        "class BTNode:\n",
        "  def __init__(self, elem):\n",
        "    self.elem = elem\n",
        "    self.right = None\n",
        "    self.left = None"
      ]
    },
    {
      "cell_type": "code",
      "execution_count": null,
      "metadata": {
        "id": "UDTKlm4-PfNM"
      },
      "outputs": [],
      "source": [
        "def inorder(root):\n",
        "  if root == None:\n",
        "    return\n",
        "\n",
        "  inorder(root.left)\n",
        "  print(root.elem, end = ' ')\n",
        "  inorder(root.right)"
      ]
    },
    {
      "cell_type": "code",
      "execution_count": null,
      "metadata": {
        "colab": {
          "base_uri": "https://localhost:8080/"
        },
        "id": "Rtc22SPzPgzM",
        "outputId": "d25e82ca-df1a-4f69-9683-0c554e9347fa"
      },
      "outputs": [
        {
          "output_type": "stream",
          "name": "stdout",
          "text": [
            "H D B E A I F J C G k "
          ]
        }
      ],
      "source": [
        "def tree_construction(arr, i = 1):\n",
        "  if i>=len(arr) or arr[i] == None:\n",
        "    return None\n",
        "  p = BTNode(arr[i])\n",
        "  p.left = tree_construction(arr, 2*i)\n",
        "  p.right = tree_construction(arr, 2*i+1)\n",
        "  return p\n",
        "\n",
        "\n",
        "root2 = tree_construction([None, 'A', 'B', 'C', 'D', 'E', 'F', 'G', 'H', None, None, None, 'I', 'J', None, 'k'])\n",
        "inorder(root2)"
      ]
    },
    {
      "cell_type": "markdown",
      "metadata": {
        "id": "S2nNCJNhPqGq"
      },
      "source": [
        "Task 1"
      ]
    },
    {
      "cell_type": "code",
      "execution_count": null,
      "metadata": {
        "id": "zbBHU3FoPieb",
        "colab": {
          "base_uri": "https://localhost:8080/"
        },
        "outputId": "76dcf4f6-8f19-4f85-809d-236cea934277"
      },
      "outputs": [
        {
          "output_type": "stream",
          "name": "stdout",
          "text": [
            "Given Tree Inorder Traversal:  40 20 60 10 30 \n",
            "Mirrored Tree Inorder Traversal:  30 10 60 20 40 "
          ]
        }
      ],
      "source": [
        "def convert_mirror(root):\n",
        "    if root == None:\n",
        "        return None\n",
        "    new_root = BTNode(root.elem)\n",
        "    new_root.left = convert_mirror(root.right)\n",
        "    new_root.right = convert_mirror(root.left)\n",
        "    return new_root\n",
        "\n",
        "#DRIVER CODE\n",
        "root = BTNode(10)\n",
        "n1 = BTNode(20)\n",
        "n2 = BTNode(30)\n",
        "n3 = BTNode(40)\n",
        "n4 = BTNode(60)\n",
        "\n",
        "root.left = n1\n",
        "root.right = n2\n",
        "\n",
        "n1.left = n3\n",
        "n1.right = n4\n",
        "\n",
        "print('Given Tree Inorder Traversal: ', end = ' ')\n",
        "inorder(root) #Given Tree Inorder Traversal:  40 20 60 10 30\n",
        "print()\n",
        "\n",
        "root2 = convert_mirror(root)\n",
        "print('Mirrored Tree Inorder Traversal: ', end = ' ')\n",
        "inorder(root2) #Mirrored Tree Inorder Traversal:  30 10 60 20 40"
      ]
    },
    {
      "cell_type": "markdown",
      "metadata": {
        "id": "c-TBf3m0PrtK"
      },
      "source": [
        "Task 2"
      ]
    },
    {
      "cell_type": "code",
      "execution_count": null,
      "metadata": {
        "id": "lsuxinlBPmji",
        "colab": {
          "base_uri": "https://localhost:8080/"
        },
        "outputId": "f4f5c5b0-682f-42ab-949d-5dd7f9cff6b1"
      },
      "outputs": [
        {
          "output_type": "stream",
          "name": "stdout",
          "text": [
            "Given Tree Inorder Traversal:  3 9 -5 4 2 7 \n",
            "Level Wise Smallest Value:  4 2 -5 \n"
          ]
        }
      ],
      "source": [
        "def smallest_level(root, position = 0, chache = {}):\n",
        "    if root == None:\n",
        "        return 0\n",
        "    elif position not in chache:\n",
        "        chache[position] = root.elem\n",
        "    else:\n",
        "        if chache[position] > root.elem:\n",
        "            chache[position] = root.elem\n",
        "    smallest_level(root.left, position + 1, chache)\n",
        "    smallest_level(root.right, position + 1, chache)\n",
        "    if position == 0:\n",
        "        string = \"\"\n",
        "        for i in chache:\n",
        "            string += str(chache[i]) + ' '\n",
        "        return string\n",
        "\n",
        "#DRIVER CODE\n",
        "root = tree_construction([None, 4,9,2,3,-5,None,7])\n",
        "print('Given Tree Inorder Traversal: ', end = ' ')\n",
        "inorder(root) #Given Tree Inorder Traversal:  3 9 5 4 2 7\n",
        "print()\n",
        "print('Level Wise Smallest Value: ', end = ' ')\n",
        "print(smallest_level(root)) #Level Wise Smallest Value:  {0: 4, 1: 2, 2: -5}"
      ]
    },
    {
      "cell_type": "markdown",
      "metadata": {
        "id": "7r3lH3aWPz2d"
      },
      "source": [
        "Task 3"
      ]
    },
    {
      "cell_type": "code",
      "execution_count": null,
      "metadata": {
        "id": "zFwP64v4Pu6d",
        "colab": {
          "base_uri": "https://localhost:8080/"
        },
        "outputId": "87d84979-b7cb-4696-82d9-69cf1e587daf"
      },
      "outputs": [
        {
          "output_type": "stream",
          "name": "stdout",
          "text": [
            "Given Tree Inorder Traversal:  4 8 10 12 14 20 22 \n",
            "Inorder predecessor of node 20: 14\n"
          ]
        }
      ],
      "source": [
        "def inorder_predecessor(root, x):\n",
        "    if root == None:\n",
        "        return None\n",
        "    if x.elem <= root.elem:\n",
        "        return inorder_predecessor(root.left, x)\n",
        "    else:\n",
        "        predecessor = inorder_predecessor(root.right, x)\n",
        "        if predecessor == None:\n",
        "            return root\n",
        "        else:\n",
        "            return predecessor\n",
        "\n",
        "#DRIVER CODE\n",
        "root = BTNode(20)\n",
        "n1 = BTNode(8)\n",
        "n2 = BTNode(22)\n",
        "n3 = BTNode(4)\n",
        "n4 = BTNode(12)\n",
        "n5 = BTNode(10)\n",
        "n6 = BTNode(14)\n",
        "\n",
        "root.left = n1\n",
        "root.right = n2\n",
        "\n",
        "n1.left = n3\n",
        "n1.right = n4\n",
        "\n",
        "n4.left = n5\n",
        "n4.right = n6\n",
        "\n",
        "print('Given Tree Inorder Traversal: ', end = ' ')\n",
        "inorder(root) #Given Tree Inorder Traversal:  4 8 10 12 14 20 22\n",
        "print()\n",
        "\n",
        "x = root\n",
        "print(f'Inorder predecessor of node {x.elem}: {inorder_predecessor(root, x).elem}') #Inorder predecessor of node 20: 14"
      ]
    },
    {
      "cell_type": "markdown",
      "metadata": {
        "id": "t3IGW4OaP8Vy"
      },
      "source": [
        "Task 4"
      ]
    },
    {
      "cell_type": "code",
      "execution_count": null,
      "metadata": {
        "id": "d1A-tR7hP2fI",
        "colab": {
          "base_uri": "https://localhost:8080/"
        },
        "outputId": "c5a79827-7382-42cd-e563-c5ad44eba213"
      },
      "outputs": [
        {
          "output_type": "stream",
          "name": "stdout",
          "text": [
            "In-order BST: \n",
            "6 8 9 10 12 15 18 20 22 25 30 \n",
            "Test cases:\n",
            "Lowest Common Ancestor of (6, 12) = 10\n",
            "Lowest Common Ancestor of (20, 6) = 15\n",
            "Lowest Common Ancestor of (18, 22) = 20\n",
            "Lowest Common Ancestor of (20, 25) = 25\n",
            "Lowest Common Ancestor of (10, 12) = 10\n",
            "Lowest Common Ancestor of (12, 15) = 15\n"
          ]
        }
      ],
      "source": [
        "class BST_node:\n",
        "    def __init__(self, elem):\n",
        "        self.elem = elem\n",
        "        self.left = None\n",
        "        self.right = None\n",
        "\n",
        "\n",
        "def create_BST(root, val):\n",
        "    if val < root.elem and root.left == None:\n",
        "        n = BST_node(val)\n",
        "        root.left = n\n",
        "    elif val > root.elem and root.right == None:\n",
        "        n = BST_node(val)\n",
        "        root.right = n\n",
        "    elif val < root.elem and root.left != None:\n",
        "        create_BST(root.left, val)\n",
        "    elif val > root.elem and root.right != None:\n",
        "        create_BST(root.right, val)\n",
        "\n",
        "\n",
        "def LCA(root, x, y):\n",
        "    if x == root.elem or y == root.elem:\n",
        "        return root.elem\n",
        "    elif x > root.elem and y > root.elem:\n",
        "        return LCA(root.right, x, y)\n",
        "    elif x < root.elem and y < root.elem:\n",
        "        return LCA(root.left, x, y)\n",
        "    else:\n",
        "        return root.elem\n",
        "\n",
        "#DRIVER CODE\n",
        "#Write by yourself from the given tree\n",
        "#check all the sample inputs given\n",
        "BST_arr = [15, 10, 8, 25, 6, 12, 9, 30, 20, 22, 18]\n",
        "root = BST_node(BST_arr[0])\n",
        "for i in range(1, len(BST_arr)):\n",
        "    create_BST(root, BST_arr[i])\n",
        "\n",
        "print(\"In-order BST: \")\n",
        "inorder(root)\n",
        "print(\"\\nTest cases:\")\n",
        "print(f\"Lowest Common Ancestor of (6, 12) = {LCA(root, 6, 12)}\")\n",
        "print(f\"Lowest Common Ancestor of (20, 6) = {LCA(root, 20, 6)}\")\n",
        "print(f\"Lowest Common Ancestor of (18, 22) = {LCA(root, 18, 22)}\")\n",
        "print(f\"Lowest Common Ancestor of (20, 25) = {LCA(root, 20, 25)}\")\n",
        "print(f\"Lowest Common Ancestor of (10, 12) = {LCA(root, 10, 12)}\")\n",
        "print(f\"Lowest Common Ancestor of (12, 15) = {LCA(root, 12, 15)}\")"
      ]
    },
    {
      "cell_type": "markdown",
      "source": [
        "BONUS TASK 1"
      ],
      "metadata": {
        "id": "T3Pimbw_PLHY"
      }
    },
    {
      "cell_type": "code",
      "execution_count": null,
      "metadata": {
        "id": "m4E9_E8PThk6"
      },
      "outputs": [],
      "source": [
        "#WRITE THE FUNCTION and DRIVER CODE BY YOURSELF\n"
      ]
    },
    {
      "cell_type": "markdown",
      "metadata": {
        "id": "SBD-0xoZP_ni"
      },
      "source": [
        "Bonus Task 2"
      ]
    },
    {
      "cell_type": "code",
      "source": [
        "#WRITE THE FUNCTION BY YOURSELF\n",
        "\n",
        "#DRIVER CODE\n",
        "root = BTNode(1)\n",
        "n2 = BTNode(2)\n",
        "n3 = BTNode(3)\n",
        "n4 = BTNode(4)\n",
        "n5 = BTNode(5)\n",
        "n6 = BTNode(6)\n",
        "n7 = BTNode(7)\n",
        "n8 = BTNode(8)\n",
        "root.left = n2\n",
        "root.right = n3\n",
        "\n",
        "n2.left = n4\n",
        "n3.left = n5\n",
        "n3.right = n6\n",
        "\n",
        "n5.left = n7\n",
        "n5.right = n8\n"
      ],
      "metadata": {
        "id": "U_LYhaRIxZCb"
      },
      "execution_count": null,
      "outputs": []
    }
  ],
  "metadata": {
    "colab": {
      "provenance": []
    },
    "kernelspec": {
      "display_name": "Python 3",
      "name": "python3"
    },
    "language_info": {
      "name": "python"
    }
  },
  "nbformat": 4,
  "nbformat_minor": 0
}